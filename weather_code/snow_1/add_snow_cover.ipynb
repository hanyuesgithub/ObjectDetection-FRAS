{
  "nbformat": 4,
  "nbformat_minor": 0,
  "metadata": {
    "colab": {
      "provenance": []
    },
    "kernelspec": {
      "name": "python3",
      "display_name": "Python 3"
    },
    "language_info": {
      "name": "python"
    }
  },
  "cells": [
    {
      "cell_type": "code",
      "execution_count": null,
      "metadata": {
        "colab": {
          "base_uri": "https://localhost:8080/"
        },
        "id": "RljeA9oqXpTH",
        "outputId": "d97fcd01-c1cb-40c0-8a80-30f8e3f7d0a0"
      },
      "outputs": [
        {
          "output_type": "stream",
          "name": "stdout",
          "text": [
            "Mounted at /content/drive\n"
          ]
        }
      ],
      "source": [
        "from google.colab import drive\n",
        "drive.mount('/content/drive')"
      ]
    },
    {
      "cell_type": "code",
      "execution_count": null,
      "metadata": {
        "id": "9y5Coxk7c3w6"
      },
      "outputs": [],
      "source": [
        "import sys\n",
        "sys.path.append('/content/drive/MyDrive/sensing_project/snow_test')\n"
      ]
    },
    {
      "cell_type": "markdown",
      "metadata": {
        "id": "7RxKhENFUspx"
      },
      "source": [
        "### Importing road augmentation library Automold and helper functions library"
      ]
    },
    {
      "cell_type": "code",
      "source": [
        "import Automold as am\n",
        "import Helpers as hp"
      ],
      "metadata": {
        "id": "dLSPt5prfoYO"
      },
      "execution_count": null,
      "outputs": []
    },
    {
      "cell_type": "markdown",
      "metadata": {
        "id": "MBIWhvk9V4Xz"
      },
      "source": [
        "# add snow cover"
      ]
    },
    {
      "cell_type": "code",
      "execution_count": null,
      "metadata": {
        "id": "ILdxJZ3p-wL3"
      },
      "outputs": [],
      "source": [
        "from PIL import Image\n",
        "import os\n",
        "import numpy as np\n",
        "\n",
        "input_folder = '/content/drive/MyDrive/sensing_project/data/selected_2000'\n",
        "output_folder = '/content/drive/MyDrive/sensing_project/data/snow_accumulated_2000'\n",
        "\n",
        "for filename in os.listdir(input_folder):\n",
        "    if filename.endswith(\".jpg\") or filename.endswith(\".png\"):  # Process only specific image file extensions\n",
        "        input_path = os.path.join(input_folder, filename)\n",
        "        output_path = os.path.join(output_folder, filename)\n",
        "\n",
        "        # Open the image\n",
        "        image = Image.open(input_path)\n",
        "\n",
        "        # Convert the image to a numpy array\n",
        "        image_np = np.array(image)\n",
        "\n",
        "        # Add snow effect\n",
        "        snowy_image_np = am.add_snow([image_np], snow_coeff=0.7)[0]\n",
        "\n",
        "        # Convert the result back from numpy array to PIL Image\n",
        "        snowy_image = Image.fromarray(np.uint8(snowy_image_np))\n",
        "\n",
        "        # Save the result\n",
        "        snowy_image.save(output_path)\n"
      ]
    }
  ]
}