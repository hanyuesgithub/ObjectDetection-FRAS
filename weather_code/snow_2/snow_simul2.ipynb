{
  "cells": [
    {
      "cell_type": "markdown",
      "metadata": {
        "id": "7RxKhENFUspx"
      },
      "source": [
        "### Importing road augmentation library Automold and helper functions library"
      ]
    },
    {
      "cell_type": "code",
      "execution_count": null,
      "metadata": {
        "colab": {
          "base_uri": "https://localhost:8080/"
        },
        "id": "RljeA9oqXpTH",
        "outputId": "d97fcd01-c1cb-40c0-8a80-30f8e3f7d0a0"
      },
      "outputs": [
        {
          "name": "stdout",
          "output_type": "stream",
          "text": [
            "Mounted at /content/drive\n"
          ]
        }
      ],
      "source": [
        "from google.colab import drive\n",
        "drive.mount('/content/drive')"
      ]
    },
    {
      "cell_type": "code",
      "execution_count": null,
      "metadata": {
        "id": "9y5Coxk7c3w6"
      },
      "outputs": [],
      "source": [
        "import sys\n",
        "sys.path.append('/content/drive/MyDrive/sensing_project/snow_test')\n",
        "import Automold as am\n",
        "import Helpers as hp"
      ]
    },
    {
      "cell_type": "markdown",
      "metadata": {
        "id": "dX7IFAyrpIuH"
      },
      "source": [
        "# data augumentation"
      ]
    },
    {
      "cell_type": "markdown",
      "metadata": {
        "id": "eXGcTGrDhCqe"
      },
      "source": [
        "light:\n",
        "\n",
        "*   size: (1,2)\n",
        "*   num_snowflakes: 1500\n",
        "\n",
        "moderate:\n",
        "*   size: (1,4)\n",
        "*   num_snowflakes: 2500\n",
        "\n",
        "heavy:\n",
        "*   size: (1,6)\n",
        "*   num_snowflakes: 3000\n",
        "\n",
        "severe:\n",
        "*   size: (1,8)\n",
        "*   num_snowflakes: 4000"
      ]
    },
    {
      "cell_type": "markdown",
      "metadata": {
        "id": "13H44TUEiTs4"
      },
      "source": [
        "## addsnow (with snow cover)"
      ]
    },
    {
      "cell_type": "code",
      "execution_count": null,
      "metadata": {
        "colab": {
          "base_uri": "https://localhost:8080/"
        },
        "id": "oUXsAiLJm0xL",
        "outputId": "7cd87ecf-8dea-4f51-e914-5825d9e1851c"
      },
      "outputs": [
        {
          "name": "stdout",
          "output_type": "stream",
          "text": [
            "处理完成，图像已保存到 /content/drive/MyDrive/sensing_project/data/augumented_allsnow_2/severe\n"
          ]
        }
      ],
      "source": [
        "from google.colab import drive\n",
        "import os\n",
        "import cv2\n",
        "import numpy as np\n",
        "# Import Automold and Helpers modules\n",
        "sys.path.append('/content/drive/MyDrive/sensing_project/snow_test')\n",
        "import Automold as am\n",
        "import Helpers as hp\n",
        "\n",
        "def hexagon_star_vertices(center, size):\n",
        "    \"\"\" \n",
        "    Generate vertices of a hexagon or hexagram.\n",
        "    center: The center point coordinates (x, y).\n",
        "    size: The size of the hexagon/hexagram.\n",
        "    \"\"\"\n",
        "    x, y = center\n",
        "    vertices = []\n",
        "    for i in range(6):\n",
        "        angle = np.radians(i * 60)\n",
        "        vertex_x = int(x + size * np.cos(angle))\n",
        "        vertex_y = int(y + size * np.sin(angle))\n",
        "        vertices.append([vertex_x, vertex_y])\n",
        "    return np.array(vertices, np.int32).reshape((-1, 1, 2))\n",
        "\n",
        "def generate_snow(image):\n",
        "    def add_snowflakes(snowy_images):\n",
        "        blended_images = []\n",
        "\n",
        "        for original_image in snowy_images:\n",
        "            height, width, _ = original_image.shape\n",
        "\n",
        "            # Create a black canvas of the same size as the original image\n",
        "            snow_image = np.zeros_like(original_image, dtype=np.uint8)\n",
        "\n",
        "            # Total number of snowflakes\n",
        "            num_snowflakes = 4000\n",
        "\n",
        "            # Divide into upper and lower regions\n",
        "            num_snowflakes_upper = int(num_snowflakes * 0.8)  # 80% of the snowflakes in the upper region\n",
        "            num_snowflakes_lower = int(num_snowflakes * 0.2 * 0.6)  # 20% in the lower region, 60% of upper region count\n",
        "\n",
        "            # Generate snowflakes for the upper region\n",
        "            for _ in range(num_snowflakes_upper):\n",
        "                x = np.random.randint(0, width)\n",
        "                y = np.random.randint(0, int(height * 0.8))\n",
        "                size = np.random.randint(1, 8)\n",
        "                hexagon_star_vertices_array = hexagon_star_vertices((x, y), size)\n",
        "                intensity = np.random.randint(250, 256)\n",
        "                cv2.fillPoly(snow_image, [hexagon_star_vertices_array], (intensity, intensity, intensity))\n",
        "\n",
        "            # Generate snowflakes for the lower region\n",
        "            for _ in range(num_snowflakes_lower):\n",
        "                x = np.random.randint(0, width)\n",
        "                y = np.random.randint(int(height * 0.8), height)\n",
        "                size = np.random.randint(1, 8)\n",
        "                hexagon_star_vertices_array = hexagon_star_vertices((x, y), size)\n",
        "                intensity = np.random.randint(250, 256)\n",
        "                cv2.fillPoly(snow_image, [hexagon_star_vertices_array], (intensity, intensity, intensity))\n",
        "\n",
        "            # Apply Gaussian blur to the snowflake image\n",
        "            blurred_snow_image = cv2.GaussianBlur(snow_image, (15, 15), 0)\n",
        "\n",
        "            # Logic for generating new snowflakes (select 10% of the original snowflakes)\n",
        "            original_hexagon_indices = random.sample(range(num_snowflakes_upper + num_snowflakes_lower), \n",
        "                                                    int(0.1 * (num_snowflakes_upper + num_snowflakes_lower)))\n",
        "\n",
        "            for idx in original_hexagon_indices:\n",
        "                if idx < num_snowflakes_upper:\n",
        "                    x = np.random.randint(0, width)\n",
        "                    y = np.random.randint(0, int(height * 0.8))\n",
        "                else:\n",
        "                    x = np.random.randint(0, width)\n",
        "                    y = np.random.randint(int(height * 0.8), height)\n",
        "                hexagon_star_vertices_array = hexagon_star_vertices((x, y), 1)\n",
        "                \n",
        "                for _ in range(6):\n",
        "                    if _ == 0:\n",
        "                        center_x, center_y = random.choice(hexagon_star_vertices_array)\n",
        "                    else:\n",
        "                        center_x, center_y = random.choice(new_hexagon_vertices)\n",
        "\n",
        "                    new_size = np.random.randint(1, 3)\n",
        "                    new_hexagon_vertices = hexagon_star_vertices((center_x, center_y), new_size)\n",
        "                    cv2.fillPoly(snow_image, [new_hexagon_vertices], (255, 255, 255))\n",
        "\n",
        "            # Blend the original image with the snowflake layer\n",
        "            blended_image = cv2.addWeighted(original_image, 1, blurred_snow_image, 0.7, 0)\n",
        "            blended_images.append(blended_image)\n",
        "\n",
        "        return blended_images\n",
        "\n",
        "    # Call Automold library to add snow effect\n",
        "    snowy_image = am.add_snow([image], snow_coeff=0.7)[0]\n",
        "\n",
        "    # Call add_snowflakes function to add snowflakes\n",
        "    final_image = add_snowflakes(snowy_image)\n",
        "\n",
        "    return final_image\n",
        "\n",
        "# Set input and output folder paths\n",
        "input_folder_path = '/content/drive/MyDrive/sensing_project/data/row_image/severe'\n",
        "output_folder_path = '/content/drive/MyDrive/sensing_project/data/augumented_allsnow_2/severe'\n",
        "\n",
        "# Get all files in the input folder\n",
        "input_files = os.listdir(input_folder_path)\n",
        "\n",
        "# Iterate through each file\n",
        "for input_file_name in input_files:\n",
        "    input_file_path = os.path.join(input_folder_path, input_file_name)\n",
        "\n",
        "    # Read the image\n",
        "    original_image = cv2.imread(input_file_path)\n",
        "\n",
        "    # Process the image\n",
        "    blended_image = generate_snow(original_image)\n",
        "\n",
        "    # Generate the output file path\n",
        "    output_file_path = os.path.join(output_folder_path, input_file_name)\n",
        "\n",
        "    # Save the processed image\n",
        "    cv2.imwrite(output_file_path, blended_image)\n",
        "\n",
        "print(\"Processing complete, images saved to\", output_folder_path)\n"
      ]
    },
    {
      "cell_type": "markdown",
      "metadata": {
        "id": "5QGxboTCiRKH"
      },
      "source": [
        "## snowfall"
      ]
    },
    {
      "cell_type": "code",
      "execution_count": null,
      "metadata": {
        "colab": {
          "base_uri": "https://localhost:8080/"
        },
        "id": "6gvN6XaAYJfF",
        "outputId": "2320a587-4eb9-46bc-b7d4-831c2fba73dd"
      },
      "outputs": [
        {
          "name": "stdout",
          "output_type": "stream",
          "text": [
            "处理完成，图像已保存到 /content/drive/MyDrive/sensing_project/data/augumented_snowfall_2/moderate\n"
          ]
        }
      ],
      "source": [
        "import os\n",
        "import cv2\n",
        "import numpy as np\n",
        "\n",
        "def hexagon_star_vertices(center, size):\n",
        "    \"\"\" \n",
        "    Generate vertices of a hexagon or hexagram.\n",
        "    center: The center point coordinates (x, y).\n",
        "    size: The size of the hexagon/hexagram.\n",
        "    \"\"\"\n",
        "    x, y = center\n",
        "    vertices = []\n",
        "    for i in range(6):\n",
        "        angle = np.radians(i * 60)\n",
        "        vertex_x = int(x + size * np.cos(angle))\n",
        "        vertex_y = int(y + size * np.sin(angle))\n",
        "        vertices.append([vertex_x, vertex_y])\n",
        "    return np.array(vertices, np.int32).reshape((-1, 1, 2))\n",
        "\n",
        "def generate_snow(image):\n",
        "    def add_snowflakes(snowy_images):\n",
        "        blended_images = []\n",
        "\n",
        "        for original_image in snowy_images:\n",
        "            height, width, _ = original_image.shape\n",
        "\n",
        "            # Create a black canvas of the same size as the original image\n",
        "            snow_image = np.zeros_like(original_image, dtype=np.uint8)\n",
        "\n",
        "            # Total number of snowflakes\n",
        "            num_snowflakes = 4000\n",
        "\n",
        "            # Divide into upper and lower regions\n",
        "            num_snowflakes_upper = int(num_snowflakes * 0.8)  # 80% of the snowflakes in the upper region\n",
        "            num_snowflakes_lower = int(num_snowflakes * 0.2 * 0.6)  # 20% in the lower region, 60% of upper region count\n",
        "\n",
        "            # Generate snowflakes for the upper region\n",
        "            for _ in range(num_snowflakes_upper):\n",
        "                x = np.random.randint(0, width)\n",
        "                y = np.random.randint(0, int(height * 0.8))\n",
        "                size = np.random.randint(1, 8)\n",
        "                hexagon_star_vertices_array = hexagon_star_vertices((x, y), size)\n",
        "                intensity = np.random.randint(250, 256)\n",
        "                cv2.fillPoly(snow_image, [hexagon_star_vertices_array], (intensity, intensity, intensity))\n",
        "\n",
        "            # Generate snowflakes for the lower region\n",
        "            for _ in range(num_snowflakes_lower):\n",
        "                x = np.random.randint(0, width)\n",
        "                y = np.random.randint(int(height * 0.8), height)\n",
        "                size = np.random.randint(1, 8)\n",
        "                hexagon_star_vertices_array = hexagon_star_vertices((x, y), size)\n",
        "                intensity = np.random.randint(250, 256)\n",
        "                cv2.fillPoly(snow_image, [hexagon_star_vertices_array], (intensity, intensity, intensity))\n",
        "\n",
        "            # Apply Gaussian blur to the snowflake image\n",
        "            blurred_snow_image = cv2.GaussianBlur(snow_image, (15, 15), 0)\n",
        "\n",
        "            # Logic for generating new snowflakes (select 10% of the original snowflakes)\n",
        "            original_hexagon_indices = random.sample(range(num_snowflakes_upper + num_snowflakes_lower), \n",
        "                                                    int(0.1 * (num_snowflakes_upper + num_snowflakes_lower)))\n",
        "\n",
        "            for idx in original_hexagon_indices:\n",
        "                if idx < num_snowflakes_upper:\n",
        "                    x = np.random.randint(0, width)\n",
        "                    y = np.random.randint(0, int(height * 0.8))\n",
        "                else:\n",
        "                    x = np.random.randint(0, width)\n",
        "                    y = np.random.randint(int(height * 0.8), height)\n",
        "                hexagon_star_vertices_array = hexagon_star_vertices((x, y), 1)\n",
        "                \n",
        "                for _ in range(6):\n",
        "                    if _ == 0:\n",
        "                        center_x, center_y = random.choice(hexagon_star_vertices_array)\n",
        "                    else:\n",
        "                        center_x, center_y = random.choice(new_hexagon_vertices)\n",
        "\n",
        "                    new_size = np.random.randint(1, 3)\n",
        "                    new_hexagon_vertices = hexagon_star_vertices((center_x, center_y), new_size)\n",
        "                    cv2.fillPoly(snow_image, [new_hexagon_vertices], (255, 255, 255))\n",
        "\n",
        "            # Blend the original image with the snowflake layer\n",
        "            blended_image = cv2.addWeighted(original_image, 1, blurred_snow_image, 0.7, 0)\n",
        "            blended_images.append(blended_image)\n",
        "\n",
        "        return blended_images\n",
        "\n",
        "        # Call add_snowflakes function to add snowflakes\n",
        "        final_image = add_snowflakes(image)\n",
        "\n",
        "        return final_image\n",
        "\n",
        "# Set input and output folder paths\n",
        "input_folder_path = '/content/drive/MyDrive/sensing_project/data/row_image/moderate'\n",
        "output_folder_path = '/content/drive/MyDrive/sensing_project/data/augumented_snowfall_2/moderate'\n",
        "\n",
        "# Ensure the output folder exists, if not, create it\n",
        "if not os.path.exists(output_folder_path):\n",
        "    os.makedirs(output_folder_path)\n",
        "\n",
        "# Get all files in the input folder\n",
        "input_files = os.listdir(input_folder_path)\n",
        "\n",
        "# Iterate through each file\n",
        "for input_file_name in input_files:\n",
        "    input_file_path = os.path.join(input_folder_path, input_file_name)\n",
        "\n",
        "    # Read the image\n",
        "    original_image = cv2.imread(input_file_path)\n",
        "\n",
        "    # Process the image\n",
        "    blended_image = generate_snow(original_image)\n",
        "\n",
        "    # Generate the output file path\n",
        "    output_file_path = os.path.join(output_folder_path, input_file_name)\n",
        "\n",
        "    # Save the processed image\n",
        "    cv2.imwrite(output_file_path, blended_image)\n",
        "\n",
        "print(\"Processing complete, images saved to\", output_folder_path)\n"
      ]
    }
  ],
  "metadata": {
    "colab": {
      "provenance": [],
      "toc_visible": true
    },
    "kernelspec": {
      "display_name": "Python 3",
      "language": "python",
      "name": "python3"
    },
    "language_info": {
      "codemirror_mode": {
        "name": "ipython",
        "version": 3
      },
      "file_extension": ".py",
      "mimetype": "text/x-python",
      "name": "python",
      "nbconvert_exporter": "python",
      "pygments_lexer": "ipython3",
      "version": "3.5.2"
    }
  },
  "nbformat": 4,
  "nbformat_minor": 0
}
